{
 "cells": [
  {
   "cell_type": "code",
   "execution_count": 1,
   "id": "6bbc364c-5cb2-4045-a05e-14f133a59d84",
   "metadata": {},
   "outputs": [],
   "source": [
    "import numpy as np\n",
    "import pandas as pd\n",
    "from matplotlib import pyplot as plt\n",
    "import matplotlib.colors as mcolors"
   ]
  },
  {
   "cell_type": "code",
   "execution_count": 2,
   "id": "43c179d6-11fc-4496-b83e-6093425594c8",
   "metadata": {},
   "outputs": [],
   "source": [
    "from cosmic.sample.initialbinarytable import InitialBinaryTable\n",
    "from cosmic.evolve import Evolve"
   ]
  },
  {
   "cell_type": "code",
   "execution_count": 3,
   "id": "01e1334b-824a-47fe-a37a-6397d4e994c4",
   "metadata": {},
   "outputs": [],
   "source": [
    "#from matplotlib import rc\n",
    "%config InlineBackend.figure_format='retina'\n",
    "plt.rcParams.update({'axes.linewidth' : 1,\n",
    "                     'ytick.major.width' : 1,\n",
    "                     'ytick.minor.width' : 1,\n",
    "                     'xtick.major.width' : 1,\n",
    "                     'xtick.minor.width' : 1,\n",
    "                     'xtick.labelsize': 10, \n",
    "                     'ytick.labelsize': 10,\n",
    "                     'axes.labelsize': 12,\n",
    "                     'font.family': 'Serif',\n",
    "                     #'font.family': 'Droid Sans'\n",
    "                      'figure.figsize': (4, 3.8)\n",
    "                    })\n",
    "\n",
    "red = \"#CA0020\"\n",
    "orange = \"#F97100\" \n",
    "blue = \"#0571b0\""
   ]
  },
  {
   "cell_type": "code",
   "execution_count": 4,
   "id": "31ee6ebd-8793-4b5a-92a7-7117cfe9e2a9",
   "metadata": {
    "scrolled": true
   },
   "outputs": [
    {
     "name": "stdout",
     "output_type": "stream",
     "text": [
      "iteration 1 , binaries: 0\n",
      "iteration 2 , binaries: 12620\n",
      "iteration 3 , binaries: 25410\n",
      "iteration 4 , binaries: 38186\n",
      "iteration 5 , binaries: 51030\n",
      "iteration 6 , binaries: 63739\n",
      "iteration 7 , binaries: 76567\n",
      "iteration 8 , binaries: 89351\n",
      "iteration 9 , binaries: 102206\n",
      "iteration 10 , binaries: 115163\n",
      "iteration 11 , binaries: 128004\n",
      "iteration 12 , binaries: 140803\n",
      "iteration 13 , binaries: 153766\n",
      "iteration 14 , binaries: 166683\n",
      "iteration 15 , binaries: 179453\n",
      "iteration 16 , binaries: 192196\n",
      "iteration 17 , binaries: 205105\n",
      "iteration 18 , binaries: 217876\n",
      "iteration 19 , binaries: 230660\n",
      "iteration 20 , binaries: 243312\n",
      "iteration 21 , binaries: 256089\n",
      "iteration 22 , binaries: 268872\n",
      "iteration 23 , binaries: 281808\n",
      "iteration 24 , binaries: 294579\n",
      "iteration 25 , binaries: 307327\n",
      "iteration 26 , binaries: 320149\n",
      "iteration 27 , binaries: 333048\n",
      "iteration 28 , binaries: 345812\n",
      "iteration 29 , binaries: 358620\n",
      "iteration 30 , binaries: 371350\n",
      "iteration 31 , binaries: 384251\n",
      "iteration 32 , binaries: 397221\n",
      "iteration 33 , binaries: 410043\n",
      "iteration 34 , binaries: 423000\n",
      "iteration 35 , binaries: 436058\n",
      "iteration 36 , binaries: 449008\n",
      "iteration 37 , binaries: 461811\n",
      "iteration 38 , binaries: 474552\n",
      "iteration 39 , binaries: 487505\n",
      "iteration 40 , binaries: 500418\n",
      "iteration 41 , binaries: 513104\n",
      "iteration 42 , binaries: 526003\n",
      "iteration 43 , binaries: 538894\n",
      "iteration 44 , binaries: 551851\n",
      "iteration 45 , binaries: 564770\n",
      "iteration 46 , binaries: 577747\n",
      "iteration 47 , binaries: 590752\n",
      "iteration 48 , binaries: 603675\n",
      "iteration 49 , binaries: 616620\n",
      "iteration 50 , binaries: 629508\n",
      "iteration 51 , binaries: 642214\n",
      "iteration 52 , binaries: 654973\n",
      "iteration 53 , binaries: 667877\n",
      "iteration 54 , binaries: 680764\n",
      "iteration 55 , binaries: 693611\n",
      "iteration 56 , binaries: 706284\n",
      "iteration 57 , binaries: 719029\n",
      "iteration 58 , binaries: 731852\n",
      "iteration 59 , binaries: 744667\n",
      "iteration 60 , binaries: 757430\n",
      "iteration 61 , binaries: 770618\n",
      "iteration 62 , binaries: 783391\n",
      "iteration 63 , binaries: 796198\n",
      "iteration 64 , binaries: 808817\n",
      "iteration 65 , binaries: 821662\n",
      "iteration 66 , binaries: 834486\n",
      "iteration 67 , binaries: 847323\n",
      "iteration 68 , binaries: 860131\n",
      "iteration 69 , binaries: 872933\n",
      "iteration 70 , binaries: 885773\n",
      "iteration 71 , binaries: 898714\n",
      "iteration 72 , binaries: 911562\n",
      "iteration 73 , binaries: 924509\n",
      "iteration 74 , binaries: 937449\n",
      "iteration 75 , binaries: 950288\n",
      "iteration 76 , binaries: 963186\n",
      "iteration 77 , binaries: 976001\n",
      "iteration 78 , binaries: 988885\n"
     ]
    }
   ],
   "source": [
    "target_rows = 1e6\n",
    "\n",
    "msun_binaries = pd.DataFrame()\n",
    "\n",
    "iteration = 1\n",
    "\n",
    "while len(msun_binaries) < target_rows:\n",
    "    sample = InitialBinaryTable.sampler(\n",
    "        'independent',\n",
    "        final_kstar1=range(15),\n",
    "        final_kstar2=range(15),\n",
    "        SF_start=6652, #5 * 1e3,\n",
    "        SF_duration=0.0,\n",
    "        met=0.02,\n",
    "        size=1e6,\n",
    "        primary_model=\"kroupa01\", \n",
    "        porb_model=\"raghavan10\", #\"sana12\",\n",
    "        ecc_model=\"circular\", #\"sana12\",\n",
    "        binfrac_model=1.0 #\"offner22\"\n",
    "    )\n",
    "\n",
    "    initial_binaries = sample[0]\n",
    "\n",
    "    filtered = initial_binaries[(initial_binaries['mass_1'] < 8) & (initial_binaries['mass_1'] > 2) & (initial_binaries['mass_2'] < 1.3) & (initial_binaries['mass_2'] > 0.7)]\n",
    "    filtered.loc[:, 'mass_2'] = 1.0\n",
    "    filtered.loc[:, 'mass0_2'] = 1.0\n",
    "    \n",
    "    print('iteration', iteration, ', binaries:', len(msun_binaries))\n",
    "    iteration += 1 \n",
    "    \n",
    "    msun_binaries = pd.concat([msun_binaries, filtered])\n",
    "\n",
    "msun_binaries = msun_binaries.iloc[:int(target_rows)]"
   ]
  },
  {
   "cell_type": "code",
   "execution_count": 5,
   "id": "d3679071-d72d-44af-8943-51feab4ef6a9",
   "metadata": {},
   "outputs": [
    {
     "data": {
      "text/html": [
       "<div>\n",
       "<style scoped>\n",
       "    .dataframe tbody tr th:only-of-type {\n",
       "        vertical-align: middle;\n",
       "    }\n",
       "\n",
       "    .dataframe tbody tr th {\n",
       "        vertical-align: top;\n",
       "    }\n",
       "\n",
       "    .dataframe thead th {\n",
       "        text-align: right;\n",
       "    }\n",
       "</style>\n",
       "<table border=\"1\" class=\"dataframe\">\n",
       "  <thead>\n",
       "    <tr style=\"text-align: right;\">\n",
       "      <th></th>\n",
       "      <th>kstar_1</th>\n",
       "      <th>kstar_2</th>\n",
       "      <th>mass_1</th>\n",
       "      <th>mass_2</th>\n",
       "      <th>porb</th>\n",
       "      <th>ecc</th>\n",
       "      <th>metallicity</th>\n",
       "      <th>tphysf</th>\n",
       "      <th>mass0_1</th>\n",
       "      <th>mass0_2</th>\n",
       "      <th>...</th>\n",
       "      <th>tacc_1</th>\n",
       "      <th>tacc_2</th>\n",
       "      <th>epoch_1</th>\n",
       "      <th>epoch_2</th>\n",
       "      <th>tms_1</th>\n",
       "      <th>tms_2</th>\n",
       "      <th>bhspin_1</th>\n",
       "      <th>bhspin_2</th>\n",
       "      <th>tphys</th>\n",
       "      <th>binfrac</th>\n",
       "    </tr>\n",
       "  </thead>\n",
       "  <tbody>\n",
       "    <tr>\n",
       "      <th>146</th>\n",
       "      <td>1.0</td>\n",
       "      <td>1.0</td>\n",
       "      <td>3.476639</td>\n",
       "      <td>1.0</td>\n",
       "      <td>8.891103e+05</td>\n",
       "      <td>0.0</td>\n",
       "      <td>0.02</td>\n",
       "      <td>6652.0</td>\n",
       "      <td>3.476639</td>\n",
       "      <td>1.0</td>\n",
       "      <td>...</td>\n",
       "      <td>0.0</td>\n",
       "      <td>0.0</td>\n",
       "      <td>0.0</td>\n",
       "      <td>0.0</td>\n",
       "      <td>0.0</td>\n",
       "      <td>0.0</td>\n",
       "      <td>0.0</td>\n",
       "      <td>0.0</td>\n",
       "      <td>0.0</td>\n",
       "      <td>1.0</td>\n",
       "    </tr>\n",
       "    <tr>\n",
       "      <th>252</th>\n",
       "      <td>1.0</td>\n",
       "      <td>1.0</td>\n",
       "      <td>3.062475</td>\n",
       "      <td>1.0</td>\n",
       "      <td>7.894217e+04</td>\n",
       "      <td>0.0</td>\n",
       "      <td>0.02</td>\n",
       "      <td>6652.0</td>\n",
       "      <td>3.062475</td>\n",
       "      <td>1.0</td>\n",
       "      <td>...</td>\n",
       "      <td>0.0</td>\n",
       "      <td>0.0</td>\n",
       "      <td>0.0</td>\n",
       "      <td>0.0</td>\n",
       "      <td>0.0</td>\n",
       "      <td>0.0</td>\n",
       "      <td>0.0</td>\n",
       "      <td>0.0</td>\n",
       "      <td>0.0</td>\n",
       "      <td>1.0</td>\n",
       "    </tr>\n",
       "    <tr>\n",
       "      <th>286</th>\n",
       "      <td>1.0</td>\n",
       "      <td>1.0</td>\n",
       "      <td>3.932594</td>\n",
       "      <td>1.0</td>\n",
       "      <td>9.502095e+04</td>\n",
       "      <td>0.0</td>\n",
       "      <td>0.02</td>\n",
       "      <td>6652.0</td>\n",
       "      <td>3.932594</td>\n",
       "      <td>1.0</td>\n",
       "      <td>...</td>\n",
       "      <td>0.0</td>\n",
       "      <td>0.0</td>\n",
       "      <td>0.0</td>\n",
       "      <td>0.0</td>\n",
       "      <td>0.0</td>\n",
       "      <td>0.0</td>\n",
       "      <td>0.0</td>\n",
       "      <td>0.0</td>\n",
       "      <td>0.0</td>\n",
       "      <td>1.0</td>\n",
       "    </tr>\n",
       "    <tr>\n",
       "      <th>342</th>\n",
       "      <td>1.0</td>\n",
       "      <td>1.0</td>\n",
       "      <td>2.357246</td>\n",
       "      <td>1.0</td>\n",
       "      <td>4.750751e+05</td>\n",
       "      <td>0.0</td>\n",
       "      <td>0.02</td>\n",
       "      <td>6652.0</td>\n",
       "      <td>2.357246</td>\n",
       "      <td>1.0</td>\n",
       "      <td>...</td>\n",
       "      <td>0.0</td>\n",
       "      <td>0.0</td>\n",
       "      <td>0.0</td>\n",
       "      <td>0.0</td>\n",
       "      <td>0.0</td>\n",
       "      <td>0.0</td>\n",
       "      <td>0.0</td>\n",
       "      <td>0.0</td>\n",
       "      <td>0.0</td>\n",
       "      <td>1.0</td>\n",
       "    </tr>\n",
       "    <tr>\n",
       "      <th>428</th>\n",
       "      <td>1.0</td>\n",
       "      <td>1.0</td>\n",
       "      <td>4.308632</td>\n",
       "      <td>1.0</td>\n",
       "      <td>8.167678e+01</td>\n",
       "      <td>0.0</td>\n",
       "      <td>0.02</td>\n",
       "      <td>6652.0</td>\n",
       "      <td>4.308632</td>\n",
       "      <td>1.0</td>\n",
       "      <td>...</td>\n",
       "      <td>0.0</td>\n",
       "      <td>0.0</td>\n",
       "      <td>0.0</td>\n",
       "      <td>0.0</td>\n",
       "      <td>0.0</td>\n",
       "      <td>0.0</td>\n",
       "      <td>0.0</td>\n",
       "      <td>0.0</td>\n",
       "      <td>0.0</td>\n",
       "      <td>1.0</td>\n",
       "    </tr>\n",
       "    <tr>\n",
       "      <th>...</th>\n",
       "      <td>...</td>\n",
       "      <td>...</td>\n",
       "      <td>...</td>\n",
       "      <td>...</td>\n",
       "      <td>...</td>\n",
       "      <td>...</td>\n",
       "      <td>...</td>\n",
       "      <td>...</td>\n",
       "      <td>...</td>\n",
       "      <td>...</td>\n",
       "      <td>...</td>\n",
       "      <td>...</td>\n",
       "      <td>...</td>\n",
       "      <td>...</td>\n",
       "      <td>...</td>\n",
       "      <td>...</td>\n",
       "      <td>...</td>\n",
       "      <td>...</td>\n",
       "      <td>...</td>\n",
       "      <td>...</td>\n",
       "      <td>...</td>\n",
       "    </tr>\n",
       "    <tr>\n",
       "      <th>1039390</th>\n",
       "      <td>1.0</td>\n",
       "      <td>1.0</td>\n",
       "      <td>2.324269</td>\n",
       "      <td>1.0</td>\n",
       "      <td>4.233414e+07</td>\n",
       "      <td>0.0</td>\n",
       "      <td>0.02</td>\n",
       "      <td>6652.0</td>\n",
       "      <td>2.324269</td>\n",
       "      <td>1.0</td>\n",
       "      <td>...</td>\n",
       "      <td>0.0</td>\n",
       "      <td>0.0</td>\n",
       "      <td>0.0</td>\n",
       "      <td>0.0</td>\n",
       "      <td>0.0</td>\n",
       "      <td>0.0</td>\n",
       "      <td>0.0</td>\n",
       "      <td>0.0</td>\n",
       "      <td>0.0</td>\n",
       "      <td>1.0</td>\n",
       "    </tr>\n",
       "    <tr>\n",
       "      <th>1039426</th>\n",
       "      <td>1.0</td>\n",
       "      <td>1.0</td>\n",
       "      <td>2.087979</td>\n",
       "      <td>1.0</td>\n",
       "      <td>7.375050e+02</td>\n",
       "      <td>0.0</td>\n",
       "      <td>0.02</td>\n",
       "      <td>6652.0</td>\n",
       "      <td>2.087979</td>\n",
       "      <td>1.0</td>\n",
       "      <td>...</td>\n",
       "      <td>0.0</td>\n",
       "      <td>0.0</td>\n",
       "      <td>0.0</td>\n",
       "      <td>0.0</td>\n",
       "      <td>0.0</td>\n",
       "      <td>0.0</td>\n",
       "      <td>0.0</td>\n",
       "      <td>0.0</td>\n",
       "      <td>0.0</td>\n",
       "      <td>1.0</td>\n",
       "    </tr>\n",
       "    <tr>\n",
       "      <th>1039438</th>\n",
       "      <td>1.0</td>\n",
       "      <td>1.0</td>\n",
       "      <td>4.401867</td>\n",
       "      <td>1.0</td>\n",
       "      <td>2.451710e+05</td>\n",
       "      <td>0.0</td>\n",
       "      <td>0.02</td>\n",
       "      <td>6652.0</td>\n",
       "      <td>4.401867</td>\n",
       "      <td>1.0</td>\n",
       "      <td>...</td>\n",
       "      <td>0.0</td>\n",
       "      <td>0.0</td>\n",
       "      <td>0.0</td>\n",
       "      <td>0.0</td>\n",
       "      <td>0.0</td>\n",
       "      <td>0.0</td>\n",
       "      <td>0.0</td>\n",
       "      <td>0.0</td>\n",
       "      <td>0.0</td>\n",
       "      <td>1.0</td>\n",
       "    </tr>\n",
       "    <tr>\n",
       "      <th>1039467</th>\n",
       "      <td>1.0</td>\n",
       "      <td>1.0</td>\n",
       "      <td>6.102578</td>\n",
       "      <td>1.0</td>\n",
       "      <td>1.920413e+03</td>\n",
       "      <td>0.0</td>\n",
       "      <td>0.02</td>\n",
       "      <td>6652.0</td>\n",
       "      <td>6.102578</td>\n",
       "      <td>1.0</td>\n",
       "      <td>...</td>\n",
       "      <td>0.0</td>\n",
       "      <td>0.0</td>\n",
       "      <td>0.0</td>\n",
       "      <td>0.0</td>\n",
       "      <td>0.0</td>\n",
       "      <td>0.0</td>\n",
       "      <td>0.0</td>\n",
       "      <td>0.0</td>\n",
       "      <td>0.0</td>\n",
       "      <td>1.0</td>\n",
       "    </tr>\n",
       "    <tr>\n",
       "      <th>1039576</th>\n",
       "      <td>1.0</td>\n",
       "      <td>1.0</td>\n",
       "      <td>3.214312</td>\n",
       "      <td>1.0</td>\n",
       "      <td>1.295087e+08</td>\n",
       "      <td>0.0</td>\n",
       "      <td>0.02</td>\n",
       "      <td>6652.0</td>\n",
       "      <td>3.214312</td>\n",
       "      <td>1.0</td>\n",
       "      <td>...</td>\n",
       "      <td>0.0</td>\n",
       "      <td>0.0</td>\n",
       "      <td>0.0</td>\n",
       "      <td>0.0</td>\n",
       "      <td>0.0</td>\n",
       "      <td>0.0</td>\n",
       "      <td>0.0</td>\n",
       "      <td>0.0</td>\n",
       "      <td>0.0</td>\n",
       "      <td>1.0</td>\n",
       "    </tr>\n",
       "  </tbody>\n",
       "</table>\n",
       "<p>1000000 rows × 38 columns</p>\n",
       "</div>"
      ],
      "text/plain": [
       "         kstar_1  kstar_2    mass_1  mass_2          porb  ecc  metallicity  \\\n",
       "146          1.0      1.0  3.476639     1.0  8.891103e+05  0.0         0.02   \n",
       "252          1.0      1.0  3.062475     1.0  7.894217e+04  0.0         0.02   \n",
       "286          1.0      1.0  3.932594     1.0  9.502095e+04  0.0         0.02   \n",
       "342          1.0      1.0  2.357246     1.0  4.750751e+05  0.0         0.02   \n",
       "428          1.0      1.0  4.308632     1.0  8.167678e+01  0.0         0.02   \n",
       "...          ...      ...       ...     ...           ...  ...          ...   \n",
       "1039390      1.0      1.0  2.324269     1.0  4.233414e+07  0.0         0.02   \n",
       "1039426      1.0      1.0  2.087979     1.0  7.375050e+02  0.0         0.02   \n",
       "1039438      1.0      1.0  4.401867     1.0  2.451710e+05  0.0         0.02   \n",
       "1039467      1.0      1.0  6.102578     1.0  1.920413e+03  0.0         0.02   \n",
       "1039576      1.0      1.0  3.214312     1.0  1.295087e+08  0.0         0.02   \n",
       "\n",
       "         tphysf   mass0_1  mass0_2  ...  tacc_1  tacc_2  epoch_1  epoch_2  \\\n",
       "146      6652.0  3.476639      1.0  ...     0.0     0.0      0.0      0.0   \n",
       "252      6652.0  3.062475      1.0  ...     0.0     0.0      0.0      0.0   \n",
       "286      6652.0  3.932594      1.0  ...     0.0     0.0      0.0      0.0   \n",
       "342      6652.0  2.357246      1.0  ...     0.0     0.0      0.0      0.0   \n",
       "428      6652.0  4.308632      1.0  ...     0.0     0.0      0.0      0.0   \n",
       "...         ...       ...      ...  ...     ...     ...      ...      ...   \n",
       "1039390  6652.0  2.324269      1.0  ...     0.0     0.0      0.0      0.0   \n",
       "1039426  6652.0  2.087979      1.0  ...     0.0     0.0      0.0      0.0   \n",
       "1039438  6652.0  4.401867      1.0  ...     0.0     0.0      0.0      0.0   \n",
       "1039467  6652.0  6.102578      1.0  ...     0.0     0.0      0.0      0.0   \n",
       "1039576  6652.0  3.214312      1.0  ...     0.0     0.0      0.0      0.0   \n",
       "\n",
       "         tms_1  tms_2  bhspin_1  bhspin_2  tphys  binfrac  \n",
       "146        0.0    0.0       0.0       0.0    0.0      1.0  \n",
       "252        0.0    0.0       0.0       0.0    0.0      1.0  \n",
       "286        0.0    0.0       0.0       0.0    0.0      1.0  \n",
       "342        0.0    0.0       0.0       0.0    0.0      1.0  \n",
       "428        0.0    0.0       0.0       0.0    0.0      1.0  \n",
       "...        ...    ...       ...       ...    ...      ...  \n",
       "1039390    0.0    0.0       0.0       0.0    0.0      1.0  \n",
       "1039426    0.0    0.0       0.0       0.0    0.0      1.0  \n",
       "1039438    0.0    0.0       0.0       0.0    0.0      1.0  \n",
       "1039467    0.0    0.0       0.0       0.0    0.0      1.0  \n",
       "1039576    0.0    0.0       0.0       0.0    0.0      1.0  \n",
       "\n",
       "[1000000 rows x 38 columns]"
      ]
     },
     "execution_count": 5,
     "metadata": {},
     "output_type": "execute_result"
    }
   ],
   "source": [
    "msun_binaries"
   ]
  },
  {
   "cell_type": "code",
   "execution_count": 6,
   "id": "a5814144-68ab-4b8e-a22c-5577e8838f11",
   "metadata": {},
   "outputs": [
    {
     "data": {
      "text/plain": [
       "Index(['kstar_1', 'kstar_2', 'mass_1', 'mass_2', 'porb', 'ecc', 'metallicity',\n",
       "       'tphysf', 'mass0_1', 'mass0_2', 'rad_1', 'rad_2', 'lum_1', 'lum_2',\n",
       "       'massc_1', 'massc_2', 'radc_1', 'radc_2', 'menv_1', 'menv_2', 'renv_1',\n",
       "       'renv_2', 'omega_spin_1', 'omega_spin_2', 'B_1', 'B_2', 'bacc_1',\n",
       "       'bacc_2', 'tacc_1', 'tacc_2', 'epoch_1', 'epoch_2', 'tms_1', 'tms_2',\n",
       "       'bhspin_1', 'bhspin_2', 'tphys', 'binfrac'],\n",
       "      dtype='object')"
      ]
     },
     "execution_count": 6,
     "metadata": {},
     "output_type": "execute_result"
    }
   ],
   "source": [
    "msun_binaries.columns"
   ]
  },
  {
   "cell_type": "code",
   "execution_count": 7,
   "id": "680cb3dd-2522-488f-a87e-76af7aeafae5",
   "metadata": {
    "scrolled": true
   },
   "outputs": [
    {
     "name": "stdout",
     "output_type": "stream",
     "text": [
      "Column: kstar_1\n",
      "Unique Values: [1.]\n",
      "----------------------------------------\n",
      "Column: kstar_2\n",
      "Unique Values: [1.]\n",
      "----------------------------------------\n",
      "Column: mass_1\n",
      "Unique Values: [3.47663902 3.06247485 3.93259364 ... 4.40186659 6.10257836 3.21431189]\n",
      "----------------------------------------\n",
      "Column: mass_2\n",
      "Unique Values: [1.]\n",
      "----------------------------------------\n",
      "Column: porb\n",
      "Unique Values: [8.89110320e+05 7.89421690e+04 9.50209488e+04 ... 2.45170995e+05\n",
      " 1.92041332e+03 1.29508650e+08]\n",
      "----------------------------------------\n",
      "Column: ecc\n",
      "Unique Values: [0.]\n",
      "----------------------------------------\n",
      "Column: metallicity\n",
      "Unique Values: [0.02]\n",
      "----------------------------------------\n",
      "Column: tphysf\n",
      "Unique Values: [6652.]\n",
      "----------------------------------------\n",
      "Column: mass0_1\n",
      "Unique Values: [3.47663902 3.06247485 3.93259364 ... 4.40186659 6.10257836 3.21431189]\n",
      "----------------------------------------\n",
      "Column: mass0_2\n",
      "Unique Values: [1.]\n",
      "----------------------------------------\n",
      "Column: rad_1\n",
      "Unique Values: [0.]\n",
      "----------------------------------------\n",
      "Column: rad_2\n",
      "Unique Values: [0.]\n",
      "----------------------------------------\n",
      "Column: lum_1\n",
      "Unique Values: [0.]\n",
      "----------------------------------------\n",
      "Column: lum_2\n",
      "Unique Values: [0.]\n",
      "----------------------------------------\n",
      "Column: massc_1\n",
      "Unique Values: [0.]\n",
      "----------------------------------------\n",
      "Column: massc_2\n",
      "Unique Values: [0.]\n",
      "----------------------------------------\n",
      "Column: radc_1\n",
      "Unique Values: [0.]\n",
      "----------------------------------------\n",
      "Column: radc_2\n",
      "Unique Values: [0.]\n",
      "----------------------------------------\n",
      "Column: menv_1\n",
      "Unique Values: [0.]\n",
      "----------------------------------------\n",
      "Column: menv_2\n",
      "Unique Values: [0.]\n",
      "----------------------------------------\n",
      "Column: renv_1\n",
      "Unique Values: [0.]\n",
      "----------------------------------------\n",
      "Column: renv_2\n",
      "Unique Values: [0.]\n",
      "----------------------------------------\n",
      "Column: omega_spin_1\n",
      "Unique Values: [0.]\n",
      "----------------------------------------\n",
      "Column: omega_spin_2\n",
      "Unique Values: [0.]\n",
      "----------------------------------------\n",
      "Column: B_1\n",
      "Unique Values: [0.]\n",
      "----------------------------------------\n",
      "Column: B_2\n",
      "Unique Values: [0.]\n",
      "----------------------------------------\n",
      "Column: bacc_1\n",
      "Unique Values: [0.]\n",
      "----------------------------------------\n",
      "Column: bacc_2\n",
      "Unique Values: [0.]\n",
      "----------------------------------------\n",
      "Column: tacc_1\n",
      "Unique Values: [0.]\n",
      "----------------------------------------\n",
      "Column: tacc_2\n",
      "Unique Values: [0.]\n",
      "----------------------------------------\n",
      "Column: epoch_1\n",
      "Unique Values: [0.]\n",
      "----------------------------------------\n",
      "Column: epoch_2\n",
      "Unique Values: [0.]\n",
      "----------------------------------------\n",
      "Column: tms_1\n",
      "Unique Values: [0.]\n",
      "----------------------------------------\n",
      "Column: tms_2\n",
      "Unique Values: [0.]\n",
      "----------------------------------------\n",
      "Column: bhspin_1\n",
      "Unique Values: [0.]\n",
      "----------------------------------------\n",
      "Column: bhspin_2\n",
      "Unique Values: [0.]\n",
      "----------------------------------------\n",
      "Column: tphys\n",
      "Unique Values: [0.]\n",
      "----------------------------------------\n",
      "Column: binfrac\n",
      "Unique Values: [1.]\n",
      "----------------------------------------\n"
     ]
    }
   ],
   "source": [
    "for column in msun_binaries.columns:\n",
    "    unique_values = msun_binaries[column].unique()\n",
    "    print(f\"Column: {column}\")\n",
    "    print(\"Unique Values:\", unique_values)\n",
    "    print(\"-\" * 40)"
   ]
  },
  {
   "cell_type": "code",
   "execution_count": 8,
   "id": "ad494037-3f1c-4c39-9b1d-defdf4fdc74b",
   "metadata": {},
   "outputs": [],
   "source": [
    "msun_binaries.to_csv('msun_binaries-1M-r10.csv', index=False)"
   ]
  },
  {
   "cell_type": "code",
   "execution_count": 4,
   "id": "9d2d4979-c030-425c-a310-704bbae66f09",
   "metadata": {},
   "outputs": [],
   "source": [
    "msun_binaries = pd.read_csv('msun_binaries-1M-r10.csv')"
   ]
  },
  {
   "cell_type": "code",
   "execution_count": 5,
   "id": "a7ab55fd-b98c-452b-9cd1-2435fe4b0be4",
   "metadata": {},
   "outputs": [
    {
     "data": {
      "text/plain": [
       "(1000000, 38)"
      ]
     },
     "execution_count": 5,
     "metadata": {},
     "output_type": "execute_result"
    }
   ],
   "source": [
    "msun_binaries.shape"
   ]
  },
  {
   "cell_type": "code",
   "execution_count": 6,
   "id": "d2c1743b-64ed-4b17-bdbb-12a1cead8c84",
   "metadata": {},
   "outputs": [
    {
     "data": {
      "text/plain": [
       "Index(['kstar_1', 'kstar_2', 'mass_1', 'mass_2', 'porb', 'ecc', 'metallicity',\n",
       "       'tphysf', 'mass0_1', 'mass0_2', 'rad_1', 'rad_2', 'lum_1', 'lum_2',\n",
       "       'massc_1', 'massc_2', 'radc_1', 'radc_2', 'menv_1', 'menv_2', 'renv_1',\n",
       "       'renv_2', 'omega_spin_1', 'omega_spin_2', 'B_1', 'B_2', 'bacc_1',\n",
       "       'bacc_2', 'tacc_1', 'tacc_2', 'epoch_1', 'epoch_2', 'tms_1', 'tms_2',\n",
       "       'bhspin_1', 'bhspin_2', 'tphys', 'binfrac'],\n",
       "      dtype='object')"
      ]
     },
     "execution_count": 6,
     "metadata": {},
     "output_type": "execute_result"
    }
   ],
   "source": [
    "msun_binaries.columns"
   ]
  },
  {
   "cell_type": "code",
   "execution_count": 7,
   "id": "74d0e7d4-acf2-40b1-9564-2c0c78e8178f",
   "metadata": {},
   "outputs": [
    {
     "data": {
      "text/plain": [
       "Text(0, 0.5, 'mass 2')"
      ]
     },
     "execution_count": 7,
     "metadata": {},
     "output_type": "execute_result"
    },
    {
     "data": {
      "image/png": "[encoded data removed]",
      "text/plain": [
       "<Figure size 400x380 with 1 Axes>"
      ]
     },
     "metadata": {
      "image/png": {
       "height": 357,
       "width": 392
      }
     },
     "output_type": "display_data"
    }
   ],
   "source": [
    "plt.plot(msun_binaries.mass_1, msun_binaries.mass_2, 'k.')\n",
    "plt.axvline(1, ls='--')\n",
    "plt.axhline(1, ls='--')\n",
    "plt.xlabel('mass 1')\n",
    "plt.ylabel('mass 2')"
   ]
  },
  {
   "cell_type": "code",
   "execution_count": 8,
   "id": "1245d291-d129-467e-a157-7c7b123b2d1b",
   "metadata": {},
   "outputs": [
    {
     "data": {
      "text/plain": [
       "[]"
      ]
     },
     "execution_count": 8,
     "metadata": {},
     "output_type": "execute_result"
    },
    {
     "data": {
      "image/png": "[encoded data removed]",
      "text/plain": [
       "<Figure size 400x380 with 1 Axes>"
      ]
     },
     "metadata": {
      "image/png": {
       "height": 358,
       "width": 370
      }
     },
     "output_type": "display_data"
    }
   ],
   "source": [
    "plt.plot(msun_binaries.porb/365, msun_binaries.mass_1/msun_binaries.mass_2, 'k.')\n",
    "plt.xlabel('P [yr]')\n",
    "plt.ylabel('q')\n",
    "plt.semilogx()\n",
    "#plt.semilogy()"
   ]
  },
  {
   "cell_type": "code",
   "execution_count": 9,
   "id": "bd74bc49-f870-40f9-83bd-74e39d1eb5c0",
   "metadata": {},
   "outputs": [],
   "source": [
    "msun_binaries['tphysf'] = 6652"
   ]
  },
  {
   "cell_type": "code",
   "execution_count": 15,
   "id": "acc89409-d936-4b1b-9f3d-9a9d15e92e5f",
   "metadata": {},
   "outputs": [],
   "source": [
    "BSEDict = {'xi': 1.0, 'bhflag': 1, 'neta': 0.5, 'windflag': 3, 'wdflag': 1, 'alpha1': 1.0, 'pts1': 0.001, 'pts3': 0.02, 'pts2': 0.01, \n",
    "           'epsnov': 0.001, 'hewind': 0.5, 'ck': 1000, 'bwind': 0.0, 'lambdaf': 0.0, 'mxns': 3.0, 'beta': -1.0, 'tflag': 1, 'acc2': 1.5, \n",
    "           'grflag' : 1, 'remnantflag': 4, 'ceflag': 0, 'eddfac': 1.0, 'ifflag': 0, 'bconst': 3000, 'sigma': 265.0, 'gamma': -2.0, 'pisn': 45.0, \n",
    "           'natal_kick_array' : [[-100.0,-100.0,-100.0,-100.0,0.0], [-100.0,-100.0,-100.0,-100.0,0.0]], 'bhsigmafrac' : 1.0, 'polar_kick_angle' : 90, \n",
    "           'qcrit_array' : [0.0,0.0,0.0,0.0,0.0,0.0,0.0,0.0,0.0,0.0,0.0,0.0,0.0,0.0,0.0,0.0], 'cekickflag' : 2, 'cehestarflag' : 0, 'cemergeflag' : 0, \n",
    "           'ecsn' : 2.25, 'ecsn_mlow' : 1.6, 'aic' : 1, 'ussn' : 0, 'sigmadiv' :-20.0, 'qcflag' : 1, 'eddlimflag' : 0, \n",
    "           'fprimc_array' : [2.0/21.0,2.0/21.0,2.0/21.0,2.0/21.0,2.0/21.0,2.0/21.0,2.0/21.0,2.0/21.0,2.0/21.0,2.0/21.0,2.0/21.0,2.0/21.0,2.0/21.0,2.0/21.0,2.0/21.0,2.0/21.0], \n",
    "           'bhspinflag' : 0, 'bhspinmag' : 0.0, 'rejuv_fac' : 1.0, 'rejuvflag' : 0, 'htpmb' : 1, 'ST_cr' : 1, 'ST_tide' : 1, 'bdecayfac' : 1, 'rembar_massloss' : 0.5, \n",
    "           'kickflag' : 0, 'zsun' : 0.014, 'bhms_coll_flag' : 0, 'don_lim' : -1, 'acc_lim' : -1, 'rtmsflag' : 0, 'wd_mass_lim': 1}\n",
    "\n",
    "bpp, bcm, initC, kick_info  = Evolve.evolve(initialbinarytable=msun_binaries, BSEDict=BSEDict)"
   ]
  },
  {
   "cell_type": "code",
   "execution_count": 16,
   "id": "68bb7ed4-15c5-4033-8c77-478b517ccdd9",
   "metadata": {},
   "outputs": [],
   "source": [
    "bpp.to_csv('bpp_1M-r10.csv', index=False)\n",
    "bcm.to_csv('bcm_1M-r10.csv', index=False)"
   ]
  },
  {
   "cell_type": "code",
   "execution_count": 17,
   "id": "6090e7ee-9191-4afa-b9b7-f41172145212",
   "metadata": {},
   "outputs": [
    {
     "name": "stdout",
     "output_type": "stream",
     "text": [
      "all done!\n"
     ]
    }
   ],
   "source": [
    "print(\"all done!\")"
   ]
  },
  {
   "cell_type": "code",
   "execution_count": 18,
   "id": "677d0939-0ebd-46c5-a45f-70b75167100d",
   "metadata": {},
   "outputs": [],
   "source": [
    "bpp = pd.read_csv('bpp_1M-r10.csv')\n",
    "bcm = pd.read_csv('bcm_1M-r10.csv')"
   ]
  },
  {
   "cell_type": "code",
   "execution_count": 19,
   "id": "03ed6d2e-0e7e-49fd-aa2a-ea6e3f3fa961",
   "metadata": {},
   "outputs": [
    {
     "data": {
      "text/plain": [
       "Text(0, 0.5, 'Luminosity [L$_\\\\odot$]')"
      ]
     },
     "execution_count": 19,
     "metadata": {},
     "output_type": "execute_result"
    },
    {
     "data": {
      "image/png": "[encoded data removed]",
      "text/plain": [
       "<Figure size 400x380 with 2 Axes>"
      ]
     },
     "metadata": {
      "image/png": {
       "height": 372,
       "width": 448
      }
     },
     "output_type": "display_data"
    }
   ],
   "source": [
    "grouped = bpp.groupby('bin_num')\n",
    "last_lum = np.array(grouped['lum_2'].last().tolist())\n",
    "last_teff = np.array(grouped['teff_2'].last().tolist())\n",
    "last_mass = np.array(grouped['mass_2'].last().tolist())\n",
    "\n",
    "idx = (last_mass >= 0.9999) & (last_mass <= 1.00001)\n",
    "\n",
    "plt.scatter(last_teff[idx], last_lum[idx], c=last_mass[idx])\n",
    "plt.colorbar(label=r'Final secondary mass [M$_\\odot$]')\n",
    "\n",
    "plt.plot(5777, 1, 'k.')\n",
    "plt.plot(5777, 1, 'ko', mfc='none', ms=10)\n",
    "plt.axhline(1, ls='--', c='k')\n",
    "plt.gca().invert_xaxis()\n",
    "#plt.semilogx()\n",
    "#plt.semilogy()\n",
    "plt.xlabel('Effective temperature [K]')\n",
    "plt.ylabel(r'Luminosity [L$_\\odot$]')"
   ]
  },
  {
   "cell_type": "code",
   "execution_count": 21,
   "id": "bf8bbaec-67f1-4f07-9255-f7ef33a2e7c4",
   "metadata": {},
   "outputs": [
    {
     "data": {
      "text/plain": [
       "139832"
      ]
     },
     "execution_count": 21,
     "metadata": {},
     "output_type": "execute_result"
    }
   ],
   "source": [
    "len(last_lum[idx])"
   ]
  },
  {
   "cell_type": "code",
   "execution_count": 10,
   "id": "b734b17c-29c3-47e4-a025-117ebd29595f",
   "metadata": {},
   "outputs": [],
   "source": [
    "from cosmic.evolve import MultiPool"
   ]
  },
  {
   "cell_type": "code",
   "execution_count": 12,
   "id": "c559b4eb-32d6-4669-b167-e45bc1c814c5",
   "metadata": {},
   "outputs": [],
   "source": [
    "BSEDict = {'xi': 0.5, 'bhflag': 1, 'neta': 0.1, 'windflag': 3, 'wdflag': 1, 'alpha1': 1.0, 'pts1': 0.001, 'pts3': 0.02, 'pts2': 0.01, \n",
    "           'epsnov': 0.001, 'hewind': 0.1, 'ck': 1000, 'bwind': 0.0, 'lambdaf': 0.0, 'mxns': 3.0, 'beta': -1.0, 'tflag': 1, 'acc2': 1.5, \n",
    "           'grflag' : 1, 'remnantflag': 4, 'ceflag': 0, 'eddfac': 1.0, 'ifflag': 0, 'bconst': 3000, 'sigma': 265.0, 'gamma': -2.0, 'pisn': 45.0, \n",
    "           'natal_kick_array' : [[-100.0,-100.0,-100.0,-100.0,0.0], [-100.0,-100.0,-100.0,-100.0,0.0]], 'bhsigmafrac' : 1.0, 'polar_kick_angle' : 90, \n",
    "           'qcrit_array' : [0.0,0.0,0.0,0.0,0.0,0.0,0.0,0.0,0.0,0.0,0.0,0.0,0.0,0.0,0.0,0.0], 'cekickflag' : 2, 'cehestarflag' : 0, 'cemergeflag' : 0, \n",
    "           'ecsn' : 2.25, 'ecsn_mlow' : 1.6, 'aic' : 1, 'ussn' : 0, 'sigmadiv' :-20.0, 'qcflag' : 1, 'eddlimflag' : 0, \n",
    "           'fprimc_array' : [2.0/21.0,2.0/21.0,2.0/21.0,2.0/21.0,2.0/21.0,2.0/21.0,2.0/21.0,2.0/21.0,2.0/21.0,2.0/21.0,2.0/21.0,2.0/21.0,2.0/21.0,2.0/21.0,2.0/21.0,2.0/21.0], \n",
    "           'bhspinflag' : 0, 'bhspinmag' : 0.0, 'rejuv_fac' : 1.0, 'rejuvflag' : 0, 'htpmb' : 1, 'ST_cr' : 1, 'ST_tide' : 1, 'bdecayfac' : 1, 'rembar_massloss' : 0.5, \n",
    "           'kickflag' : 0, 'zsun' : 0.014, 'bhms_coll_flag' : 0, 'don_lim' : -1, 'acc_lim' : -1, 'rtmsflag' : 0, 'wd_mass_lim': 1}\n",
    "\n",
    "bpp, bcm, initC, kick_info = Evolve.evolve(initialbinarytable=msun_binaries, BSEDict=BSEDict, nproc=16)"
   ]
  },
  {
   "cell_type": "code",
   "execution_count": 13,
   "id": "c341eb3e-dafd-4572-92c7-7a88adcae5ef",
   "metadata": {},
   "outputs": [],
   "source": [
    "bpp.to_csv('bpp_1M-r10-neta1-xi05.csv', index=False)\n",
    "bcm.to_csv('bcm_1M-r10-neta1-xi05.csv', index=False)"
   ]
  },
  {
   "cell_type": "code",
   "execution_count": null,
   "id": "d4cee356-e605-438f-9749-3bc41487b1e6",
   "metadata": {},
   "outputs": [],
   "source": []
  }
 ],
 "metadata": {
  "kernelspec": {
   "display_name": "Python 3 (ipykernel)",
   "language": "python",
   "name": "python3"
  },
  "language_info": {
   "codemirror_mode": {
    "name": "ipython",
    "version": 3
   },
   "file_extension": ".py",
   "mimetype": "text/x-python",
   "name": "python",
   "nbconvert_exporter": "python",
   "pygments_lexer": "ipython3",
   "version": "3.11.5"
  },
  "widgets": {
   "application/vnd.jupyter.widget-state+json": {
    "state": {},
    "version_major": 2,
    "version_minor": 0
   }
  }
 },
 "nbformat": 4,
 "nbformat_minor": 5
}
